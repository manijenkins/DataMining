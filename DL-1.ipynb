{
  "nbformat": 4,
  "nbformat_minor": 0,
  "metadata": {
    "colab": {
      "name": "Untitled2.ipynb",
      "provenance": [],
      "collapsed_sections": [],
      "authorship_tag": "ABX9TyMtfF8+wJQ6zUaPCpLvw8Rg",
      "include_colab_link": true
    },
    "kernelspec": {
      "name": "python3",
      "display_name": "Python 3"
    }
  },
  "cells": [
    {
      "cell_type": "markdown",
      "metadata": {
        "id": "view-in-github",
        "colab_type": "text"
      },
      "source": [
        "<a href=\"https://colab.research.google.com/github/manijenkins/DataMining/blob/feature_assignment/DL-1.ipynb\" target=\"_parent\"><img src=\"https://colab.research.google.com/assets/colab-badge.svg\" alt=\"Open In Colab\"/></a>"
      ]
    },
    {
      "cell_type": "code",
      "metadata": {
        "id": "0bHnGAdS-hOc"
      },
      "source": [
        "import random\n",
        "import numpy as np\n",
        "import tensorflow as tf\n",
        "\n",
        "from tensorflow.keras import models\n",
        "from tensorflow.keras import layers\n",
        "\n"
      ],
      "execution_count": 5,
      "outputs": []
    },
    {
      "cell_type": "code",
      "metadata": {
        "id": "dV2AJ3ia_GXv"
      },
      "source": [
        "random.seed(42)\n",
        "np.random.seed(42)\n",
        "\n",
        "tf.random.set_seed(42)\n"
      ],
      "execution_count": 6,
      "outputs": []
    },
    {
      "cell_type": "markdown",
      "metadata": {
        "id": "gMocLrvAAfz8"
      },
      "source": [
        "# ***DataSet***"
      ]
    },
    {
      "cell_type": "code",
      "metadata": {
        "id": "UG5tQJC9_9K5",
        "outputId": "f5772de7-3549-4c65-f88e-f895ae85e5f4",
        "colab": {
          "base_uri": "https://localhost:8080/",
          "height": 51
        }
      },
      "source": [
        "mnist = tf.keras.datasets.mnist\n",
        "\n",
        "(Xtrain, Ytrain), (Xtest, Ytest) = mnist.load_data()"
      ],
      "execution_count": 7,
      "outputs": [
        {
          "output_type": "stream",
          "text": [
            "Downloading data from https://storage.googleapis.com/tensorflow/tf-keras-datasets/mnist.npz\n",
            "11493376/11490434 [==============================] - 1s 0us/step\n"
          ],
          "name": "stdout"
        }
      ]
    },
    {
      "cell_type": "code",
      "metadata": {
        "id": "n-vJgHY9AmhF",
        "outputId": "1ef4f8ae-f3eb-4a49-f2d2-dc773c8a5568",
        "colab": {
          "base_uri": "https://localhost:8080/",
          "height": 85
        }
      },
      "source": [
        "# Datasets Size\n",
        "\n",
        "print(Xtrain.shape)\n",
        "print(Xtest.shape)\n",
        "print(Ytrain.shape)\n",
        "print(Ytest.shape)"
      ],
      "execution_count": 9,
      "outputs": [
        {
          "output_type": "stream",
          "text": [
            "(60000, 28, 28)\n",
            "(10000, 28, 28)\n",
            "(60000,)\n",
            "(10000,)\n"
          ],
          "name": "stdout"
        }
      ]
    },
    {
      "cell_type": "code",
      "metadata": {
        "id": "iftw3ZCHBmvG",
        "outputId": "7261b22c-3fbe-4ff0-82a3-fc99918905cf",
        "colab": {
          "base_uri": "https://localhost:8080/",
          "height": 187
        }
      },
      "source": [
        "#Print Sample data\n",
        "\n",
        "print('Xtrain \\n', Xtrain[10,10])\n",
        "print('Xtest \\n', Xtest[10,10])\n",
        "print('Ytrain \\n', Ytrain[10,])\n",
        "print('Ytest \\n', Ytest[10,])"
      ],
      "execution_count": 12,
      "outputs": [
        {
          "output_type": "stream",
          "text": [
            "Xtrain \n",
            " [  0   0   0   0   0   0   0   0   0   0   0   0   0  24 209 254 254 254\n",
            " 171   0   0   0   0   0   0   0   0   0]\n",
            "Xtest \n",
            " [  0   0   0   0   0   0   0   0 194 254 103   0   0   0   0   0   0   0\n",
            "   0   0 150 254 213   0   0   0   0   0]\n",
            "Ytrain \n",
            " 3\n",
            "Ytest \n",
            " 0\n"
          ],
          "name": "stdout"
        }
      ]
    },
    {
      "cell_type": "code",
      "metadata": {
        "id": "ULaes1QqIEG7"
      },
      "source": [
        "#Normalize the Data\n",
        "\n",
        "Xtrain = Xtrain.reshape((60000, 28*28)) #reshapping the input to size 28 * 28 60000 -- no images 28*28=784(vector length(1 image coverted as vector))\n",
        "Xtrain = Xtrain.astype('float32')/255  #normalize to gray scale. That is values between 0 to 1\n",
        "\n",
        "Xtest = Xtest.reshape((10000, 28*28))\n",
        "Xtest = Xtest.astype('float32')/255\n",
        "\n",
        "Ytrain = tf.keras.utils.to_categorical(Ytrain)\n",
        "Ytest = tf.keras.utils.to_categorical(Ytest)\n"
      ],
      "execution_count": 14,
      "outputs": []
    },
    {
      "cell_type": "code",
      "metadata": {
        "id": "sM0Ze-hBJ_Ut",
        "outputId": "d719665f-b5fc-437f-a758-13251cdb46a8",
        "colab": {
          "base_uri": "https://localhost:8080/",
          "height": 153
        }
      },
      "source": [
        "# print sample data\n",
        "print('Xtrain \\n', Xtrain[10,10])\n",
        "print('Xtest \\n', Xtest[10,10])\n",
        "print('Ytrain \\n', Ytrain[10,])\n",
        "print('Ytest \\n', Ytest[10,])"
      ],
      "execution_count": 15,
      "outputs": [
        {
          "output_type": "stream",
          "text": [
            "Xtrain \n",
            " 0.0\n",
            "Xtest \n",
            " 0.0\n",
            "Ytrain \n",
            " [0. 0. 0. 1. 0. 0. 0. 0. 0. 0.]\n",
            "Ytest \n",
            " [1. 0. 0. 0. 0. 0. 0. 0. 0. 0.]\n"
          ],
          "name": "stdout"
        }
      ]
    },
    {
      "cell_type": "markdown",
      "metadata": {
        "id": "Z_j994EBL1AD"
      },
      "source": [
        "# **DNN Model**"
      ]
    },
    {
      "cell_type": "code",
      "metadata": {
        "id": "uo-Dv_vvLcw8"
      },
      "source": [
        "#Using Keras, create DNN or Sequential\n",
        "\n",
        "#create a model object\n",
        "\n",
        "dnnModel = models.Sequential()\n"
      ],
      "execution_count": 16,
      "outputs": []
    },
    {
      "cell_type": "code",
      "metadata": {
        "id": "ZeTf3_IKMVHE",
        "outputId": "d40cfa98-c122-4850-a999-34ccd5a966ab",
        "colab": {
          "base_uri": "https://localhost:8080/",
          "height": 289
        }
      },
      "source": [
        "#layer 1 - Input layer\n",
        "#Specify the input size\n",
        "\n",
        "dnnModel.add(layers.Dense(50, activation='relu', input_shape= (28*28,)))\n",
        "\n",
        "#Layer -2 - Hidden Layer\n",
        "dnnModel.add(layers.Dense(60, activation='relu'))\n",
        "\n",
        "#Layer -3 - Hidden Layer\n",
        "dnnModel.add(layers.Dense(30, activation='relu'))\n",
        "\n",
        "#Layer -4 - Hidden Layer\n",
        "dnnModel.add(layers.Dense(10, activation='softmax'))\n",
        "\n",
        "dnnModel.summary()"
      ],
      "execution_count": 17,
      "outputs": [
        {
          "output_type": "stream",
          "text": [
            "Model: \"sequential\"\n",
            "_________________________________________________________________\n",
            "Layer (type)                 Output Shape              Param #   \n",
            "=================================================================\n",
            "dense (Dense)                (None, 50)                39250     \n",
            "_________________________________________________________________\n",
            "dense_1 (Dense)              (None, 60)                3060      \n",
            "_________________________________________________________________\n",
            "dense_2 (Dense)              (None, 30)                1830      \n",
            "_________________________________________________________________\n",
            "dense_3 (Dense)              (None, 10)                310       \n",
            "=================================================================\n",
            "Total params: 44,450\n",
            "Trainable params: 44,450\n",
            "Non-trainable params: 0\n",
            "_________________________________________________________________\n"
          ],
          "name": "stdout"
        }
      ]
    },
    {
      "cell_type": "code",
      "metadata": {
        "id": "qYn_mGbSTiuu"
      },
      "source": [
        "#Regualarization and Optimizations of DNN\n",
        "\n",
        "dnnModel.compile(optimizer=  'adam', loss = 'categorical_crossentropy', metrics=['accuracy'])"
      ],
      "execution_count": 21,
      "outputs": []
    },
    {
      "cell_type": "code",
      "metadata": {
        "id": "xru7cZ2dUJca",
        "outputId": "373ae0d4-ecdf-47c0-8c1c-c00fd1c3c245",
        "colab": {
          "base_uri": "https://localhost:8080/",
          "height": 867
        }
      },
      "source": [
        "#Train the model\n",
        "\n",
        "h = dnnModel.fit( Xtrain, Ytrain, epochs=25, batch_size=64)"
      ],
      "execution_count": 23,
      "outputs": [
        {
          "output_type": "stream",
          "text": [
            "Epoch 1/25\n",
            "938/938 [==============================] - 2s 2ms/step - loss: 0.3421 - accuracy: 0.8985\n",
            "Epoch 2/25\n",
            "938/938 [==============================] - 2s 2ms/step - loss: 0.1482 - accuracy: 0.9563\n",
            "Epoch 3/25\n",
            "938/938 [==============================] - 2s 2ms/step - loss: 0.1116 - accuracy: 0.9666\n",
            "Epoch 4/25\n",
            "938/938 [==============================] - 2s 2ms/step - loss: 0.0905 - accuracy: 0.9718\n",
            "Epoch 5/25\n",
            "938/938 [==============================] - 2s 2ms/step - loss: 0.0767 - accuracy: 0.9762\n",
            "Epoch 6/25\n",
            "938/938 [==============================] - 2s 2ms/step - loss: 0.0666 - accuracy: 0.9791\n",
            "Epoch 7/25\n",
            "938/938 [==============================] - 2s 2ms/step - loss: 0.0562 - accuracy: 0.9823\n",
            "Epoch 8/25\n",
            "938/938 [==============================] - 2s 2ms/step - loss: 0.0498 - accuracy: 0.9848\n",
            "Epoch 9/25\n",
            "938/938 [==============================] - 2s 2ms/step - loss: 0.0432 - accuracy: 0.9863\n",
            "Epoch 10/25\n",
            "938/938 [==============================] - 2s 2ms/step - loss: 0.0386 - accuracy: 0.9876\n",
            "Epoch 11/25\n",
            "938/938 [==============================] - 2s 2ms/step - loss: 0.0354 - accuracy: 0.9887\n",
            "Epoch 12/25\n",
            "938/938 [==============================] - 2s 2ms/step - loss: 0.0308 - accuracy: 0.9898\n",
            "Epoch 13/25\n",
            "938/938 [==============================] - 2s 2ms/step - loss: 0.0278 - accuracy: 0.9907\n",
            "Epoch 14/25\n",
            "938/938 [==============================] - 2s 2ms/step - loss: 0.0270 - accuracy: 0.9911\n",
            "Epoch 15/25\n",
            "938/938 [==============================] - 2s 2ms/step - loss: 0.0235 - accuracy: 0.9918\n",
            "Epoch 16/25\n",
            "938/938 [==============================] - 2s 2ms/step - loss: 0.0237 - accuracy: 0.9922\n",
            "Epoch 17/25\n",
            "938/938 [==============================] - 2s 2ms/step - loss: 0.0179 - accuracy: 0.9941\n",
            "Epoch 18/25\n",
            "938/938 [==============================] - 2s 2ms/step - loss: 0.0211 - accuracy: 0.9931\n",
            "Epoch 19/25\n",
            "938/938 [==============================] - 2s 2ms/step - loss: 0.0181 - accuracy: 0.9940\n",
            "Epoch 20/25\n",
            "938/938 [==============================] - 2s 2ms/step - loss: 0.0156 - accuracy: 0.9947\n",
            "Epoch 21/25\n",
            "938/938 [==============================] - 2s 2ms/step - loss: 0.0163 - accuracy: 0.9946\n",
            "Epoch 22/25\n",
            "938/938 [==============================] - 2s 2ms/step - loss: 0.0159 - accuracy: 0.9948\n",
            "Epoch 23/25\n",
            "938/938 [==============================] - 2s 2ms/step - loss: 0.0171 - accuracy: 0.9944\n",
            "Epoch 24/25\n",
            "938/938 [==============================] - 2s 2ms/step - loss: 0.0145 - accuracy: 0.9951\n",
            "Epoch 25/25\n",
            "938/938 [==============================] - 2s 2ms/step - loss: 0.0115 - accuracy: 0.9960\n"
          ],
          "name": "stdout"
        }
      ]
    },
    {
      "cell_type": "code",
      "metadata": {
        "id": "v0WNdwiUVOhT",
        "outputId": "cbcc4731-5425-41fe-b6c6-c79af4b86309",
        "colab": {
          "base_uri": "https://localhost:8080/",
          "height": 51
        }
      },
      "source": [
        "print('Final training loss \\t', h.history['loss'][-1])\n",
        "print('Final training accuracy', h.history['accuracy'][-1])"
      ],
      "execution_count": 25,
      "outputs": [
        {
          "output_type": "stream",
          "text": [
            "Final training loss \t 0.011464651674032211\n",
            "Final training accuracy 0.9960166811943054\n"
          ],
          "name": "stdout"
        }
      ]
    },
    {
      "cell_type": "code",
      "metadata": {
        "id": "bq7oKcwtXFLR",
        "outputId": "7865aa39-8798-4215-c374-06268d9fd140",
        "colab": {
          "base_uri": "https://localhost:8080/",
          "height": 34
        }
      },
      "source": [
        "#Testing the model\n",
        "\n",
        "testLoss, testAccuracy = dnnModel.evaluate(Xtest, Ytest)"
      ],
      "execution_count": 26,
      "outputs": [
        {
          "output_type": "stream",
          "text": [
            "313/313 [==============================] - 0s 842us/step - loss: 0.1314 - accuracy: 0.9742\n"
          ],
          "name": "stdout"
        }
      ]
    },
    {
      "cell_type": "code",
      "metadata": {
        "id": "uxyZeftYXU_1",
        "outputId": "8750694b-3638-42f0-8a8d-25231e85e58f",
        "colab": {
          "base_uri": "https://localhost:8080/",
          "height": 51
        }
      },
      "source": [
        "print('Testing Loss \\t', testLoss)\n",
        "print('Testing Accuracy \\t', testAccuracy)\n"
      ],
      "execution_count": 27,
      "outputs": [
        {
          "output_type": "stream",
          "text": [
            "Testing Loss \t 0.13141518831253052\n",
            "Testing Accuracy \t 0.9742000102996826\n"
          ],
          "name": "stdout"
        }
      ]
    }
  ]
}