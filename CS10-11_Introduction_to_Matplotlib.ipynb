{
 "cells": [
  {
   "cell_type": "markdown",
   "metadata": {},
   "source": [
    "# Basic Plotting: Introduction to ```matplotlib```\n",
    "\n",
    "In this section, we will:\n",
    "- Create basic plots using ```matplotlib.pyplot```\n",
    "- Put axis labels and titles\n",
    "- Create multiple plots (subplots) in the same figure\n",
    "- Change the scales of x and y axes\n",
    "- Create common types of plots: Histograms, boxplots, scatter plots and bar charts \n",
    "- Working with images"
   ]
  },
  {
   "cell_type": "markdown",
   "metadata": {},
   "source": [
    "## Basic Plotting, Axes Labels and Titles"
   ]
  },
  {
   "cell_type": "code",
   "execution_count": null,
   "metadata": {},
   "outputs": [],
   "source": [
    "import numpy as np\n",
    "import pandas as pd\n",
    "import matplotlib.pyplot as plt\n",
    "\n",
    "# Plotting two 1-D numpy arrays\n",
    "x = np.linspace(5, 100, 100)\n",
    "y = np.linspace(10, 1000, 100)\n",
    "\n",
    "plt.plot(x, y)\n",
    "plt.show()"
   ]
  },
  {
   "cell_type": "code",
   "execution_count": null,
   "metadata": {},
   "outputs": [],
   "source": [
    "# let us plot our first basic chart\n",
    "plt.plot([1, 4, 6, 8], [3, 8, 3, 5])\n",
    "plt.show()"
   ]
  },
  {
   "cell_type": "markdown",
   "metadata": {},
   "source": [
    "Let's see how to put labels and the x and y axes and the chart title. \n",
    "\n",
    "Also, you can specify the limits of x and y labels as a range using ```xlim([xmin, xmax])``` and ```ylim([ymin, ymax])```.\n"
   ]
  },
  {
   "cell_type": "code",
   "execution_count": null,
   "metadata": {},
   "outputs": [],
   "source": [
    "# Axis labels and title\n",
    "plt.plot(x, y)\n",
    "\n",
    "# x and y labels, and title\n",
    "plt.xlabel(\"X-Axis: Current\")\n",
    "plt.ylabel(\"Y-Axis: Voltage\")\n",
    "plt.title(\"Ohm's Law\")\n",
    "\n",
    "# Define the range of labels of the axis \n",
    "# Arguments: plt.axis(xmin, xmax, ymin, ymax)\n",
    "plt.xlim([20, 90])\n",
    "plt.ylim([100, 900])\n",
    "plt.show()"
   ]
  },
  {
   "cell_type": "code",
   "execution_count": null,
   "metadata": {},
   "outputs": [],
   "source": [
    "# Change the colors and line type\n",
    "\n",
    "# initialising x and y arrays\n",
    "x = np.linspace(0, 10, 20)\n",
    "y = x*2\n",
    "\n",
    "# color blue, line type '+'\n",
    "plt.plot(x, y, 'b+')\n",
    "\n",
    "# put x and y labels, and the title\n",
    "plt.xlabel(\"Current\")\n",
    "plt.ylabel(\"Voltage\")\n",
    "plt.title(\"Ohm's Law\")\n",
    "\n",
    "plt.show()\n"
   ]
  },
  {
   "cell_type": "code",
   "execution_count": null,
   "metadata": {},
   "outputs": [],
   "source": [
    "# Plotting multiple lines on the same plot\n",
    "\n",
    "x = np.linspace(0, 5, 10)\n",
    "y = np.linspace(3, 6, 10)\n",
    "\n",
    "# plot three curves: y, y**2 and y**3 with different line types\n",
    "plt.plot(x, y, 'ro', x, y**2, 'b+', x, y**3, 'cD')\n",
    "plt.show()"
   ]
  },
  {
   "cell_type": "code",
   "execution_count": null,
   "metadata": {},
   "outputs": [],
   "source": [
    "# Plotting a complete chart\n",
    "\n",
    "x = np.arange(1, 5)\n",
    "\n",
    "plt.title(\"Matplotlib Graphs\")\n",
    "\n",
    "plt.plot(x, x*1, label = \"regular\")\n",
    "plt.plot(x, x*2, label = \"Doubled\")\n",
    "\n",
    "plt.grid(False)\n",
    "plt.xlabel('numbers')\n",
    "plt.ylabel('derived')\n",
    "\n",
    "plt.legend()\n",
    "\n",
    "plt.show()"
   ]
  },
  {
   "cell_type": "markdown",
   "metadata": {},
   "source": [
    "# Decoration with Plot styles and Types"
   ]
  },
  {
   "cell_type": "code",
   "execution_count": null,
   "metadata": {},
   "outputs": [],
   "source": [
    "x = np.arange(1, 5)\n",
    "\n",
    "plt.title(\"Matplotlib Graphs Colors\")\n",
    "\n",
    "plt.plot(x, 'y')\n",
    "plt.plot(x + 1, 'g')\n",
    "plt.plot(x + 2, 'r')\n",
    "\n",
    "plt.grid(False)\n",
    "plt.xlabel('numbers')\n",
    "plt.ylabel('derived')\n",
    "\n",
    "plt.show()"
   ]
  },
  {
   "cell_type": "code",
   "execution_count": null,
   "metadata": {},
   "outputs": [],
   "source": [
    "x = np.arange(1, 5)\n",
    "\n",
    "plt.title(\"Matplotlib Graphs - Line Style\")\n",
    "\n",
    "plt.plot(x, '-')\n",
    "plt.plot(x + 1, '*')\n",
    "plt.plot(x + 2, '--')\n",
    "\n",
    "plt.grid(False)\n",
    "plt.xlabel('numbers')\n",
    "plt.ylabel('derived')\n",
    "\n",
    "plt.show()"
   ]
  },
  {
   "cell_type": "code",
   "execution_count": null,
   "metadata": {},
   "outputs": [],
   "source": [
    "x = np.arange(1, 5)\n",
    "\n",
    "plt.title(\"Matplotlib Graphs - Marker Style\")\n",
    "\n",
    "plt.plot(x, 'D')\n",
    "plt.plot(x + 1, 'o')\n",
    "plt.plot(x + 2, 's')\n",
    "\n",
    "plt.grid(False)\n",
    "plt.xlabel('numbers')\n",
    "plt.ylabel('derived')\n",
    "\n",
    "plt.show()"
   ]
  },
  {
   "cell_type": "code",
   "execution_count": null,
   "metadata": {},
   "outputs": [],
   "source": [
    "x = np.arange(1, 5)\n",
    "\n",
    "plt.title(\"Matplotlib Graphs - Customizations\")\n",
    "\n",
    "plt.plot(x, 'cD-')\n",
    "plt.plot(x + 1, 'go-')\n",
    "plt.plot(x + 2, 'rs--')\n",
    "\n",
    "plt.grid(False)\n",
    "plt.xlabel('numbers')\n",
    "plt.ylabel('derived')\n",
    "\n",
    "plt.show()"
   ]
  },
  {
   "cell_type": "code",
   "execution_count": null,
   "metadata": {},
   "outputs": [],
   "source": [
    "x = np.arange(1, 5)\n",
    "\n",
    "plt.title(\"Matplotlib Graphs - Customizations\")\n",
    "\n",
    "plt.plot(x, color=\"blue\", linestyle=\"dashdot\", linewidth=3, marker=\"D\", markersize=10)\n",
    "\n",
    "plt.grid(False)\n",
    "plt.xlabel('numbers')\n",
    "plt.ylabel('derived')\n",
    "\n",
    "plt.show()"
   ]
  },
  {
   "cell_type": "code",
   "execution_count": null,
   "metadata": {
    "scrolled": true
   },
   "outputs": [],
   "source": [
    "x = np.arange(1, 5)\n",
    "\n",
    "plt.title(\"Matplotlib Graphs - Ticks\")\n",
    "\n",
    "plt.plot(x, color=\"red\", linestyle=\"dashdot\", linewidth=3, marker=\"D\", markersize=10)\n",
    "plt.xticks(range(len(x)),['Pune', 'Mumbai', \"Bangalore\", \"Delhi\"])\n",
    "plt.yticks(range(0, 8, 2))\n",
    "plt.grid(False)\n",
    "plt.xlabel('numbers')\n",
    "plt.ylabel('derived')\n",
    "\n",
    "plt.show()"
   ]
  }
 ],
 "metadata": {
  "kernelspec": {
   "display_name": "Python 3",
   "language": "python",
   "name": "python3"
  },
  "language_info": {
   "codemirror_mode": {
    "name": "ipython",
    "version": 3
   },
   "file_extension": ".py",
   "mimetype": "text/x-python",
   "name": "python",
   "nbconvert_exporter": "python",
   "pygments_lexer": "ipython3",
   "version": "3.7.1"
  }
 },
 "nbformat": 4,
 "nbformat_minor": 2
}
