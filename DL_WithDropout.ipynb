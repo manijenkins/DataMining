{
  "nbformat": 4,
  "nbformat_minor": 0,
  "metadata": {
    "colab": {
      "name": "Untitled2.ipynb",
      "provenance": [],
      "collapsed_sections": [],
      "authorship_tag": "ABX9TyNWLJ1ubYM73Q5adPNsxm+e",
      "include_colab_link": true
    },
    "kernelspec": {
      "name": "python3",
      "display_name": "Python 3"
    }
  },
  "cells": [
    {
      "cell_type": "markdown",
      "metadata": {
        "id": "view-in-github",
        "colab_type": "text"
      },
      "source": [
        "<a href=\"https://colab.research.google.com/github/manijenkins/DataMining/blob/feature_assignment/DL_WithDropout.ipynb\" target=\"_parent\"><img src=\"https://colab.research.google.com/assets/colab-badge.svg\" alt=\"Open In Colab\"/></a>"
      ]
    },
    {
      "cell_type": "code",
      "metadata": {
        "id": "0bHnGAdS-hOc"
      },
      "source": [
        "import random\n",
        "import numpy as np\n",
        "import tensorflow as tf\n",
        "\n",
        "from tensorflow.keras import models\n",
        "from tensorflow.keras import layers\n",
        "\n"
      ],
      "execution_count": 41,
      "outputs": []
    },
    {
      "cell_type": "code",
      "metadata": {
        "id": "dV2AJ3ia_GXv"
      },
      "source": [
        "random.seed(42)\n",
        "np.random.seed(42)\n",
        "\n",
        "tf.random.set_seed(42)\n"
      ],
      "execution_count": 42,
      "outputs": []
    },
    {
      "cell_type": "markdown",
      "metadata": {
        "id": "gMocLrvAAfz8"
      },
      "source": [
        "# ***DataSet***"
      ]
    },
    {
      "cell_type": "code",
      "metadata": {
        "id": "UG5tQJC9_9K5"
      },
      "source": [
        "mnist = tf.keras.datasets.mnist\n",
        "\n",
        "(Xtrain, Ytrain), (Xtest, Ytest) = mnist.load_data()"
      ],
      "execution_count": 43,
      "outputs": []
    },
    {
      "cell_type": "code",
      "metadata": {
        "id": "n-vJgHY9AmhF",
        "outputId": "c51a1b76-eab9-42ce-8cd3-7330d20585bf",
        "colab": {
          "base_uri": "https://localhost:8080/",
          "height": 85
        }
      },
      "source": [
        "# Datasets Size\n",
        "\n",
        "print(Xtrain.shape)\n",
        "print(Xtest.shape)\n",
        "print(Ytrain.shape)\n",
        "print(Ytest.shape)"
      ],
      "execution_count": 44,
      "outputs": [
        {
          "output_type": "stream",
          "text": [
            "(60000, 28, 28)\n",
            "(10000, 28, 28)\n",
            "(60000,)\n",
            "(10000,)\n"
          ],
          "name": "stdout"
        }
      ]
    },
    {
      "cell_type": "code",
      "metadata": {
        "id": "iftw3ZCHBmvG",
        "outputId": "e46055ec-a732-4319-e6e8-2a9a1c04498c",
        "colab": {
          "base_uri": "https://localhost:8080/",
          "height": 187
        }
      },
      "source": [
        "#Print Sample data\n",
        "\n",
        "print('Xtrain \\n', Xtrain[10,10])\n",
        "print('Xtest \\n', Xtest[10,10])\n",
        "print('Ytrain \\n', Ytrain[10,])\n",
        "print('Ytest \\n', Ytest[10,])"
      ],
      "execution_count": 45,
      "outputs": [
        {
          "output_type": "stream",
          "text": [
            "Xtrain \n",
            " [  0   0   0   0   0   0   0   0   0   0   0   0   0  24 209 254 254 254\n",
            " 171   0   0   0   0   0   0   0   0   0]\n",
            "Xtest \n",
            " [  0   0   0   0   0   0   0   0 194 254 103   0   0   0   0   0   0   0\n",
            "   0   0 150 254 213   0   0   0   0   0]\n",
            "Ytrain \n",
            " 3\n",
            "Ytest \n",
            " 0\n"
          ],
          "name": "stdout"
        }
      ]
    },
    {
      "cell_type": "code",
      "metadata": {
        "id": "ULaes1QqIEG7"
      },
      "source": [
        "#Normalize the Data\n",
        "\n",
        "Xtrain = Xtrain.reshape((60000, 28*28)) #reshapping the input to size 28 * 28 60000 -- no images 28*28=784(vector length(1 image coverted as vector))\n",
        "Xtrain = Xtrain.astype('float32')/255  #normalize to gray scale. That is values between 0 to 1\n",
        "\n",
        "Xtest = Xtest.reshape((10000, 28*28))\n",
        "Xtest = Xtest.astype('float32')/255\n",
        "\n",
        "Ytrain = tf.keras.utils.to_categorical(Ytrain)\n",
        "Ytest = tf.keras.utils.to_categorical(Ytest)\n"
      ],
      "execution_count": 46,
      "outputs": []
    },
    {
      "cell_type": "code",
      "metadata": {
        "id": "sM0Ze-hBJ_Ut",
        "outputId": "1af62832-df86-419e-af6c-aafcdbbd5dce",
        "colab": {
          "base_uri": "https://localhost:8080/",
          "height": 153
        }
      },
      "source": [
        "# print sample data\n",
        "print('Xtrain \\n', Xtrain[10,10])\n",
        "print('Xtest \\n', Xtest[10,10])\n",
        "print('Ytrain \\n', Ytrain[10,])\n",
        "print('Ytest \\n', Ytest[10,])"
      ],
      "execution_count": 47,
      "outputs": [
        {
          "output_type": "stream",
          "text": [
            "Xtrain \n",
            " 0.0\n",
            "Xtest \n",
            " 0.0\n",
            "Ytrain \n",
            " [0. 0. 0. 1. 0. 0. 0. 0. 0. 0.]\n",
            "Ytest \n",
            " [1. 0. 0. 0. 0. 0. 0. 0. 0. 0.]\n"
          ],
          "name": "stdout"
        }
      ]
    },
    {
      "cell_type": "markdown",
      "metadata": {
        "id": "Z_j994EBL1AD"
      },
      "source": [
        "# **DNN Model**"
      ]
    },
    {
      "cell_type": "code",
      "metadata": {
        "id": "uo-Dv_vvLcw8"
      },
      "source": [
        "#Using Keras, create DNN or Sequential\n",
        "\n",
        "#create a model object\n",
        "\n",
        "dnnModel = models.Sequential()\n"
      ],
      "execution_count": 48,
      "outputs": []
    },
    {
      "cell_type": "code",
      "metadata": {
        "id": "ZeTf3_IKMVHE",
        "outputId": "b36f38e9-0bec-4f12-a22e-b5f572495bd2",
        "colab": {
          "base_uri": "https://localhost:8080/",
          "height": 357
        }
      },
      "source": [
        "#layer 1 - Input layer\n",
        "#Specify the input size\n",
        "\n",
        "dnnModel.add(layers.Dense(50, activation='relu', input_shape= (28*28,)))\n",
        "\n",
        "#Layer -2 - Hidden Layer\n",
        "dnnModel.add(layers.Dense(60, activation='relu'))\n",
        "\n",
        "#Add dropout of 50% to layer 2\n",
        "dnnModel.add(layers.Dropout(0.5))\n",
        "\n",
        "#Layer -3 - Hidden Layer\n",
        "dnnModel.add(layers.Dense(30, activation='relu'))\n",
        "\n",
        "#Add dropout of 50% to layer 3\n",
        "dnnModel.add(layers.Dropout(0.5))\n",
        "\n",
        "#Layer -4 - Output Layer\n",
        "dnnModel.add(layers.Dense(10, activation='softmax'))\n",
        "\n",
        "dnnModel.summary()"
      ],
      "execution_count": 49,
      "outputs": [
        {
          "output_type": "stream",
          "text": [
            "Model: \"sequential_2\"\n",
            "_________________________________________________________________\n",
            "Layer (type)                 Output Shape              Param #   \n",
            "=================================================================\n",
            "dense_8 (Dense)              (None, 50)                39250     \n",
            "_________________________________________________________________\n",
            "dense_9 (Dense)              (None, 60)                3060      \n",
            "_________________________________________________________________\n",
            "dropout_2 (Dropout)          (None, 60)                0         \n",
            "_________________________________________________________________\n",
            "dense_10 (Dense)             (None, 30)                1830      \n",
            "_________________________________________________________________\n",
            "dropout_3 (Dropout)          (None, 30)                0         \n",
            "_________________________________________________________________\n",
            "dense_11 (Dense)             (None, 10)                310       \n",
            "=================================================================\n",
            "Total params: 44,450\n",
            "Trainable params: 44,450\n",
            "Non-trainable params: 0\n",
            "_________________________________________________________________\n"
          ],
          "name": "stdout"
        }
      ]
    },
    {
      "cell_type": "code",
      "metadata": {
        "id": "qYn_mGbSTiuu"
      },
      "source": [
        "#Regualarization and Optimizations of DNN\n",
        "\n",
        "dnnModel.compile(optimizer=  'adam', loss = 'categorical_crossentropy', metrics=['accuracy'])"
      ],
      "execution_count": 71,
      "outputs": []
    },
    {
      "cell_type": "code",
      "metadata": {
        "id": "xru7cZ2dUJca",
        "outputId": "26996550-7b3b-4254-cc69-ebce0907fa0e",
        "colab": {
          "base_uri": "https://localhost:8080/",
          "height": 867
        }
      },
      "source": [
        "#Train the model\n",
        "\n",
        "h = dnnModel.fit( Xtrain, Ytrain, validation_split=0.2, epochs=25, batch_size=64)"
      ],
      "execution_count": 75,
      "outputs": [
        {
          "output_type": "stream",
          "text": [
            "Epoch 1/25\n",
            "750/750 [==============================] - 2s 2ms/step - loss: 0.1319 - accuracy: 0.9667 - val_loss: 0.0928 - val_accuracy: 0.9795\n",
            "Epoch 2/25\n",
            "750/750 [==============================] - 2s 2ms/step - loss: 0.1113 - accuracy: 0.9682 - val_loss: 0.0839 - val_accuracy: 0.9803\n",
            "Epoch 3/25\n",
            "750/750 [==============================] - 2s 2ms/step - loss: 0.1014 - accuracy: 0.9687 - val_loss: 0.0972 - val_accuracy: 0.9804\n",
            "Epoch 4/25\n",
            "750/750 [==============================] - 2s 2ms/step - loss: 0.0983 - accuracy: 0.9702 - val_loss: 0.1044 - val_accuracy: 0.9793\n",
            "Epoch 5/25\n",
            "750/750 [==============================] - 2s 2ms/step - loss: 0.0980 - accuracy: 0.9687 - val_loss: 0.0942 - val_accuracy: 0.9818\n",
            "Epoch 6/25\n",
            "750/750 [==============================] - 2s 2ms/step - loss: 0.0913 - accuracy: 0.9718 - val_loss: 0.0944 - val_accuracy: 0.9778\n",
            "Epoch 7/25\n",
            "750/750 [==============================] - 2s 2ms/step - loss: 0.0939 - accuracy: 0.9710 - val_loss: 0.1048 - val_accuracy: 0.9790\n",
            "Epoch 8/25\n",
            "750/750 [==============================] - 2s 2ms/step - loss: 0.0943 - accuracy: 0.9703 - val_loss: 0.0968 - val_accuracy: 0.9814\n",
            "Epoch 9/25\n",
            "750/750 [==============================] - 2s 2ms/step - loss: 0.0905 - accuracy: 0.9729 - val_loss: 0.1122 - val_accuracy: 0.9801\n",
            "Epoch 10/25\n",
            "750/750 [==============================] - 2s 2ms/step - loss: 0.0894 - accuracy: 0.9727 - val_loss: 0.1130 - val_accuracy: 0.9797\n",
            "Epoch 11/25\n",
            "750/750 [==============================] - 2s 2ms/step - loss: 0.0882 - accuracy: 0.9725 - val_loss: 0.1136 - val_accuracy: 0.9779\n",
            "Epoch 12/25\n",
            "750/750 [==============================] - 2s 2ms/step - loss: 0.0901 - accuracy: 0.9719 - val_loss: 0.1115 - val_accuracy: 0.9803\n",
            "Epoch 13/25\n",
            "750/750 [==============================] - 2s 2ms/step - loss: 0.0812 - accuracy: 0.9741 - val_loss: 0.1170 - val_accuracy: 0.9795\n",
            "Epoch 14/25\n",
            "750/750 [==============================] - 2s 2ms/step - loss: 0.0836 - accuracy: 0.9737 - val_loss: 0.1274 - val_accuracy: 0.9789\n",
            "Epoch 15/25\n",
            "750/750 [==============================] - 2s 2ms/step - loss: 0.0883 - accuracy: 0.9734 - val_loss: 0.1148 - val_accuracy: 0.9803\n",
            "Epoch 16/25\n",
            "750/750 [==============================] - 2s 3ms/step - loss: 0.0839 - accuracy: 0.9746 - val_loss: 0.1247 - val_accuracy: 0.9787\n",
            "Epoch 17/25\n",
            "750/750 [==============================] - 2s 2ms/step - loss: 0.0828 - accuracy: 0.9734 - val_loss: 0.1265 - val_accuracy: 0.9788\n",
            "Epoch 18/25\n",
            "750/750 [==============================] - 2s 2ms/step - loss: 0.0853 - accuracy: 0.9737 - val_loss: 0.1242 - val_accuracy: 0.9797\n",
            "Epoch 19/25\n",
            "750/750 [==============================] - 2s 2ms/step - loss: 0.0839 - accuracy: 0.9741 - val_loss: 0.1339 - val_accuracy: 0.9792\n",
            "Epoch 20/25\n",
            "750/750 [==============================] - 2s 2ms/step - loss: 0.0781 - accuracy: 0.9750 - val_loss: 0.1478 - val_accuracy: 0.9756\n",
            "Epoch 21/25\n",
            "750/750 [==============================] - 2s 2ms/step - loss: 0.0817 - accuracy: 0.9738 - val_loss: 0.1522 - val_accuracy: 0.9768\n",
            "Epoch 22/25\n",
            "750/750 [==============================] - 2s 2ms/step - loss: 0.0821 - accuracy: 0.9745 - val_loss: 0.1415 - val_accuracy: 0.9778\n",
            "Epoch 23/25\n",
            "750/750 [==============================] - 2s 2ms/step - loss: 0.0802 - accuracy: 0.9750 - val_loss: 0.1547 - val_accuracy: 0.9781\n",
            "Epoch 24/25\n",
            "750/750 [==============================] - 2s 2ms/step - loss: 0.0780 - accuracy: 0.9756 - val_loss: 0.1610 - val_accuracy: 0.9778\n",
            "Epoch 25/25\n",
            "750/750 [==============================] - 2s 2ms/step - loss: 0.0796 - accuracy: 0.9755 - val_loss: 0.1409 - val_accuracy: 0.9782\n"
          ],
          "name": "stdout"
        }
      ]
    },
    {
      "cell_type": "code",
      "metadata": {
        "id": "v0WNdwiUVOhT",
        "outputId": "8b2891eb-c20a-4089-ee88-40a48f9b3a0a",
        "colab": {
          "base_uri": "https://localhost:8080/",
          "height": 68
        }
      },
      "source": [
        "print('Final training loss \\t', h.history['loss'][-1])\n",
        "print('Final training accuracy', h.history['accuracy'][-1])\n",
        "print (h.history.keys())"
      ],
      "execution_count": 76,
      "outputs": [
        {
          "output_type": "stream",
          "text": [
            "Final training loss \t 0.07956739515066147\n",
            "Final training accuracy 0.9754583239555359\n",
            "dict_keys(['loss', 'accuracy', 'val_loss', 'val_accuracy'])\n"
          ],
          "name": "stdout"
        }
      ]
    },
    {
      "cell_type": "code",
      "metadata": {
        "id": "pFjfMIRjbs9p",
        "outputId": "5f106a67-23ff-4704-ab01-ec2590689183",
        "colab": {
          "base_uri": "https://localhost:8080/",
          "height": 295
        }
      },
      "source": [
        "import matplotlib.pyplot as plt\n",
        "\n",
        "plt.plot(h.history['accuracy'], label='train')\n",
        "plt.plot(h.history['val_accuracy'], label='validation')\n",
        "plt.xlabel('Epochs')\n",
        "plt.ylabel('Loss')\n",
        "plt.title('Accuracy Plot')\n",
        "plt.legend()\n",
        "plt.show()"
      ],
      "execution_count": 77,
      "outputs": [
        {
          "output_type": "display_data",
          "data": {
            "image/png": "[encoded data removed]",
            "text/plain": [
              "<Figure size 432x288 with 1 Axes>"
            ]
          },
          "metadata": {
            "tags": [],
            "needs_background": "light"
          }
        }
      ]
    },
    {
      "cell_type": "code",
      "metadata": {
        "id": "bq7oKcwtXFLR",
        "outputId": "853d3345-5588-44a3-ffbc-dd5724464504",
        "colab": {
          "base_uri": "https://localhost:8080/",
          "height": 34
        }
      },
      "source": [
        "#Testing the model\n",
        "\n",
        "testLoss, testAccuracy = dnnModel.evaluate(Xtest, Ytest)"
      ],
      "execution_count": 78,
      "outputs": [
        {
          "output_type": "stream",
          "text": [
            "313/313 [==============================] - 0s 883us/step - loss: 0.2707 - accuracy: 0.9731\n"
          ],
          "name": "stdout"
        }
      ]
    },
    {
      "cell_type": "code",
      "metadata": {
        "id": "uxyZeftYXU_1",
        "outputId": "738378bb-b443-485d-c937-30b84280e087",
        "colab": {
          "base_uri": "https://localhost:8080/",
          "height": 51
        }
      },
      "source": [
        "print('Testing Loss \\t', testLoss)\n",
        "print('Testing Accuracy \\t', testAccuracy)\n"
      ],
      "execution_count": 79,
      "outputs": [
        {
          "output_type": "stream",
          "text": [
            "Testing Loss \t 0.27074211835861206\n",
            "Testing Accuracy \t 0.9731000065803528\n"
          ],
          "name": "stdout"
        }
      ]
    }
  ]
}